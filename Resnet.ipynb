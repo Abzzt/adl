{
 "cells": [
  {
   "cell_type": "code",
   "execution_count": 8,
   "metadata": {},
   "outputs": [
    {
     "ename": "ModuleNotFoundError",
     "evalue": "No module named 'torchvision'",
     "output_type": "error",
     "traceback": [
      "\u001b[0;31m---------------------------------------------------------------------------\u001b[0m",
      "\u001b[0;31mModuleNotFoundError\u001b[0m                       Traceback (most recent call last)",
      "Cell \u001b[0;32mIn[8], line 1\u001b[0m\n\u001b[0;32m----> 1\u001b[0m \u001b[38;5;28;01mimport\u001b[39;00m \u001b[38;5;21;01mtorchvision\u001b[39;00m\n\u001b[1;32m      3\u001b[0m resnet \u001b[38;5;241m=\u001b[39m torchvision\u001b[38;5;241m.\u001b[39mmodels\u001b[38;5;241m.\u001b[39mresnet18(pretrained \u001b[38;5;241m=\u001b[39m \u001b[38;5;28;01mTrue\u001b[39;00m)\n\u001b[1;32m      4\u001b[0m \u001b[38;5;28mprint\u001b[39m(resnet)\n",
      "\u001b[0;31mModuleNotFoundError\u001b[0m: No module named 'torchvision'"
     ]
    }
   ],
   "source": [
    "from tensorflow.keras.applications import ResNet50\n",
    "import tensorflow as tf\n",
    "from data_proccessing import image_size, labels\n",
    "\n",
    "rnet = ResNet50(\n",
    "        input_shape=(image_size, image_size, 3),\n",
    "        weights='imagenet',\n",
    "        include_top=False\n",
    "    )\n",
    "rnet.trainable = True\n",
    "\n",
    "rnet_model = tf.keras.Sequential([\n",
    "    rnet,\n",
    "    tf.keras.layers.GlobalAveragePooling2D(),\n",
    "    tf.keras.layers.Dense(len(labels), activation='sigmoid')])\n",
    "\n",
    "rnet_model.compile(\n",
    "    optimizer='adam',\n",
    "    loss = 'binary_crossentropy',\n",
    "    metrics=['AUC','Precision','Recall'])"
   ]
  },
  {
   "cell_type": "code",
   "execution_count": 10,
   "metadata": {},
   "outputs": [],
   "source": [
    "from sklearn.metrics import roc_curve, auc, roc_auc_score, accuracy_score, average_precision_score\n",
    "from data_proccessing import train_gen, valid_gen, X_val, y_val\n",
    "\n",
    "resnet1 = rnet_model.fit(train_gen,\n",
    "              validation_data = valid_gen,\n",
    "              epochs = 10,) # 95 min\n",
    "\n",
    "y_pred = rnet_model.predict(X_val)"
   ]
  },
  {
   "cell_type": "code",
   "execution_count": 9,
   "metadata": {},
   "outputs": [
    {
     "name": "stdout",
     "output_type": "stream",
     "text": [
      "Atelectasis: actual: 16.54%, predicted: 27.49%\n",
      "Cardiomegaly: actual: 9.09%, predicted: 7.35%\n",
      "Consolidation: actual: 9.78%, predicted: 18.82%\n",
      "Edema: actual: 9.44%, predicted: 14.92%\n",
      "Effusion: actual: 17.66%, predicted: 23.91%\n",
      "Emphysema: actual: 9.09%, predicted: 7.34%\n",
      "Fibrosis: actual: 8.92%, predicted: 11.49%\n",
      "Hernia: actual: 3.98%, predicted: 6.15%\n",
      "Infiltration: actual: 25.54%, predicted: 39.01%\n",
      "Mass: actual: 9.96%, predicted: 20.55%\n",
      "No Finding: actual: 8.66%, predicted: 14.81%\n",
      "Nodule: actual: 10.39%, predicted: 17.82%\n",
      "Pleural_Thickening: actual: 8.40%, predicted: 9.30%\n",
      "Pneumonia: actual: 8.92%, predicted: 15.26%\n",
      "Pneumothorax: actual: 10.82%, predicted: 10.42%\n"
     ]
    }
   ],
   "source": [
    "import numpy as np\n",
    "\n",
    "for label, p_count, t_count in zip(labels,\n",
    "                                     100 * np.mean(y_pred, 0),\n",
    "                                     100 * np.mean(y_val, 0)):\n",
    "    print('%s: actual: %2.2f%%, predicted: %2.2f%%' % (label, t_count, p_count))\n"
   ]
  },
  {
   "cell_type": "code",
   "execution_count": 14,
   "metadata": {},
   "outputs": [
    {
     "name": "stdout",
     "output_type": "stream",
     "text": [
      "\u001b[1m1/1\u001b[0m \u001b[32m━━━━━━━━━━━━━━━━━━━━\u001b[0m\u001b[37m\u001b[0m \u001b[1m42s\u001b[0m 42s/step - AUC: 0.6222 - Precision: 0.3200 - Recall: 0.0041 - loss: 0.3530\n",
      "Validation Metrics: [0.3529972434043884, 0.6221532821655273, 0.3199999928474426, 0.004142931196838617]\n"
     ]
    }
   ],
   "source": [
    "val_metrics = rnet_model.evaluate(valid_gen)\n",
    "print(\"Validation Metrics:\", val_metrics)\n"
   ]
  },
  {
   "cell_type": "code",
   "execution_count": 16,
   "metadata": {},
   "outputs": [
    {
     "name": "stdout",
     "output_type": "stream",
     "text": [
      "Loss:  0.3529972434043884\n",
      "Sparse_Categorical_Accuracy:  0.6221532821655273\n"
     ]
    }
   ],
   "source": [
    "loss, sparse_categorical_accuracy, val_loss, val_sparse_categorical_accuracy = val_metrics\n",
    "evaluation_results = rnet.evaluate(valid_gen)\n",
    "print(\"AUC:\", evaluation_results[0])\n",
    "print(\"Precision:\", evaluation_results[1])\n",
    "print(\"Recall:\", evaluation_results[2])\n",
    "print(\"Loss\", evaluation_results[3])"
   ]
  },
  {
   "cell_type": "code",
   "execution_count": 17,
   "metadata": {},
   "outputs": [],
   "source": [
    "rnet_model.save('models/resnet.keras')"
   ]
  },
  {
   "cell_type": "code",
   "execution_count": 11,
   "metadata": {},
   "outputs": [
    {
     "ename": "ModuleNotFoundError",
     "evalue": "No module named 'matplotlib'",
     "output_type": "error",
     "traceback": [
      "\u001b[0;31m---------------------------------------------------------------------------\u001b[0m",
      "\u001b[0;31mModuleNotFoundError\u001b[0m                       Traceback (most recent call last)",
      "Cell \u001b[0;32mIn[11], line 1\u001b[0m\n\u001b[0;32m----> 1\u001b[0m \u001b[38;5;28;01mimport\u001b[39;00m \u001b[38;5;21;01mmatplotlib\u001b[39;00m \u001b[38;5;28;01mas\u001b[39;00m \u001b[38;5;21;01mplt\u001b[39;00m\n\u001b[1;32m      3\u001b[0m plt\u001b[38;5;241m.\u001b[39mplot(resnet1\u001b[38;5;241m.\u001b[39mhistory[\u001b[38;5;124m'\u001b[39m\u001b[38;5;124mAUC\u001b[39m\u001b[38;5;124m'\u001b[39m]) \n\u001b[1;32m      4\u001b[0m plt\u001b[38;5;241m.\u001b[39mplot(resnet1\u001b[38;5;241m.\u001b[39mhistory[\u001b[38;5;124m'\u001b[39m\u001b[38;5;124mval_AUC\u001b[39m\u001b[38;5;124m'\u001b[39m]) \n",
      "\u001b[0;31mModuleNotFoundError\u001b[0m: No module named 'matplotlib'"
     ]
    }
   ],
   "source": [
    "import matplotlib.pyplot as plt\n",
    "\n",
    "plt.plot(resnet1.history['AUC']) \n",
    "plt.plot(resnet1.history['val_AUC']) \n",
    "plt.title('model auc')\n",
    "plt.ylabel('auc')\n",
    "plt.xlabel('epoch')\n",
    "plt.legend(['train', 'test'], loc='upper left')\n",
    "plt.show()"
   ]
  }
 ],
 "metadata": {
  "kernelspec": {
   "display_name": "venv",
   "language": "python",
   "name": "python3"
  },
  "language_info": {
   "codemirror_mode": {
    "name": "ipython",
    "version": 3
   },
   "file_extension": ".py",
   "mimetype": "text/x-python",
   "name": "python",
   "nbconvert_exporter": "python",
   "pygments_lexer": "ipython3",
   "version": "3.10.10"
  }
 },
 "nbformat": 4,
 "nbformat_minor": 2
}
