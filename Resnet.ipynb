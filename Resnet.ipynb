{
 "cells": [
  {
   "cell_type": "code",
   "execution_count": 8,
   "metadata": {},
   "outputs": [
    {
     "ename": "ModuleNotFoundError",
     "evalue": "No module named 'torchvision'",
     "output_type": "error",
     "traceback": [
      "\u001b[0;31m---------------------------------------------------------------------------\u001b[0m",
      "\u001b[0;31mModuleNotFoundError\u001b[0m                       Traceback (most recent call last)",
      "Cell \u001b[0;32mIn[8], line 1\u001b[0m\n\u001b[0;32m----> 1\u001b[0m \u001b[38;5;28;01mimport\u001b[39;00m \u001b[38;5;21;01mtorchvision\u001b[39;00m\n\u001b[1;32m      3\u001b[0m resnet \u001b[38;5;241m=\u001b[39m torchvision\u001b[38;5;241m.\u001b[39mmodels\u001b[38;5;241m.\u001b[39mresnet18(pretrained \u001b[38;5;241m=\u001b[39m \u001b[38;5;28;01mTrue\u001b[39;00m)\n\u001b[1;32m      4\u001b[0m \u001b[38;5;28mprint\u001b[39m(resnet)\n",
      "\u001b[0;31mModuleNotFoundError\u001b[0m: No module named 'torchvision'"
     ]
    }
   ],
   "source": [
    "import torchvision\n",
    "\n",
    "resnet = torchvision.models.resnet18(pretrained = True)\n",
    "print(resnet)"
   ]
  },
  {
   "cell_type": "code",
   "execution_count": 6,
   "metadata": {},
   "outputs": [],
   "source": [
    "from tensorflow.keras.applications import ResNet50\n",
    "import tensorflow as tf\n",
    "\n",
    "from data_proccessing import image_size, labels\n",
    "\n",
    "rnet = ResNet50(\n",
    "        input_shape=(image_size, image_size, 3),\n",
    "        weights='imagenet',\n",
    "        include_top=False\n",
    "    )\n",
    "rnet.trainable = True\n",
    "\n",
    "rnet_model = tf.keras.Sequential([\n",
    "    rnet,\n",
    "    tf.keras.layers.GlobalAveragePooling2D(),\n",
    "    tf.keras.layers.Dense(len(labels), activation='sigmoid')])\n",
    "\n",
    "rnet_model.compile(\n",
    "    optimizer='adam',\n",
    "    loss = 'binary_crossentropy',\n",
    "    metrics=['AUC','Precision','Recall'])"
   ]
  },
  {
   "cell_type": "code",
   "execution_count": 7,
   "metadata": {},
   "outputs": [
    {
     "name": "stdout",
     "output_type": "stream",
     "text": [
      "Epoch 1/10\n",
      "\u001b[1m145/145\u001b[0m \u001b[32m━━━━━━━━━━━━━━━━━━━━\u001b[0m\u001b[37m\u001b[0m \u001b[1m0s\u001b[0m 5s/step - AUC: 0.6036 - Precision: 0.1799 - Recall: 0.0444 - loss: 0.3755"
     ]
    },
    {
     "name": "stderr",
     "output_type": "stream",
     "text": [
      "/Users/abigail/Documents/adl/venv/lib/python3.10/site-packages/keras/src/trainers/data_adapters/py_dataset_adapter.py:120: UserWarning: Your `PyDataset` class should call `super().__init__(**kwargs)` in its constructor. `**kwargs` can include `workers`, `use_multiprocessing`, `max_queue_size`. Do not pass these arguments to `fit()`, as they will be ignored.\n",
      "  self._warn_if_super_not_called()\n"
     ]
    },
    {
     "name": "stdout",
     "output_type": "stream",
     "text": [
      "\u001b[1m145/145\u001b[0m \u001b[32m━━━━━━━━━━━━━━━━━━━━\u001b[0m\u001b[37m\u001b[0m \u001b[1m856s\u001b[0m 6s/step - AUC: 0.6039 - Precision: 0.1802 - Recall: 0.0442 - loss: 0.3753 - val_AUC: 0.4910 - val_Precision: 0.1766 - val_Recall: 0.1056 - val_loss: 0.4725\n",
      "Epoch 2/10\n",
      "\u001b[1m145/145\u001b[0m \u001b[32m━━━━━━━━━━━━━━━━━━━━\u001b[0m\u001b[37m\u001b[0m \u001b[1m581s\u001b[0m 4s/step - AUC: 0.6745 - Precision: 0.4233 - Recall: 0.0109 - loss: 0.3282 - val_AUC: 0.5945 - val_Precision: 0.0000e+00 - val_Recall: 0.0000e+00 - val_loss: 0.3540\n",
      "Epoch 3/10\n",
      "\u001b[1m145/145\u001b[0m \u001b[32m━━━━━━━━━━━━━━━━━━━━\u001b[0m\u001b[37m\u001b[0m \u001b[1m552s\u001b[0m 4s/step - AUC: 0.7043 - Precision: 0.5266 - Recall: 0.0227 - loss: 0.3194 - val_AUC: 0.5819 - val_Precision: 0.0000e+00 - val_Recall: 0.0000e+00 - val_loss: 0.3962\n",
      "Epoch 4/10\n",
      "\u001b[1m145/145\u001b[0m \u001b[32m━━━━━━━━━━━━━━━━━━━━\u001b[0m\u001b[37m\u001b[0m \u001b[1m532s\u001b[0m 4s/step - AUC: 0.7153 - Precision: 0.5255 - Recall: 0.0318 - loss: 0.3167 - val_AUC: 0.6022 - val_Precision: 0.0000e+00 - val_Recall: 0.0000e+00 - val_loss: 0.3570\n",
      "Epoch 5/10\n",
      "\u001b[1m145/145\u001b[0m \u001b[32m━━━━━━━━━━━━━━━━━━━━\u001b[0m\u001b[37m\u001b[0m \u001b[1m540s\u001b[0m 4s/step - AUC: 0.7261 - Precision: 0.5471 - Recall: 0.0370 - loss: 0.3135 - val_AUC: 0.6108 - val_Precision: 0.0000e+00 - val_Recall: 0.0000e+00 - val_loss: 0.3614\n",
      "Epoch 6/10\n",
      "\u001b[1m145/145\u001b[0m \u001b[32m━━━━━━━━━━━━━━━━━━━━\u001b[0m\u001b[37m\u001b[0m \u001b[1m545s\u001b[0m 4s/step - AUC: 0.7386 - Precision: 0.5865 - Recall: 0.0607 - loss: 0.3088 - val_AUC: 0.5964 - val_Precision: 0.0000e+00 - val_Recall: 0.0000e+00 - val_loss: 0.3731\n",
      "Epoch 7/10\n",
      "\u001b[1m145/145\u001b[0m \u001b[32m━━━━━━━━━━━━━━━━━━━━\u001b[0m\u001b[37m\u001b[0m \u001b[1m548s\u001b[0m 4s/step - AUC: 0.7381 - Precision: 0.5582 - Recall: 0.0481 - loss: 0.3082 - val_AUC: 0.6182 - val_Precision: 0.3519 - val_Recall: 0.0098 - val_loss: 0.3487\n",
      "Epoch 8/10\n",
      "\u001b[1m145/145\u001b[0m \u001b[32m━━━━━━━━━━━━━━━━━━━━\u001b[0m\u001b[37m\u001b[0m \u001b[1m547s\u001b[0m 4s/step - AUC: 0.7498 - Precision: 0.5327 - Recall: 0.0519 - loss: 0.3034 - val_AUC: 0.6066 - val_Precision: 0.1662 - val_Recall: 0.0316 - val_loss: 0.3800\n",
      "Epoch 9/10\n",
      "\u001b[1m145/145\u001b[0m \u001b[32m━━━━━━━━━━━━━━━━━━━━\u001b[0m\u001b[37m\u001b[0m \u001b[1m538s\u001b[0m 4s/step - AUC: 0.7552 - Precision: 0.5974 - Recall: 0.0577 - loss: 0.3019 - val_AUC: 0.6547 - val_Precision: 0.3412 - val_Recall: 0.0150 - val_loss: 0.3405\n",
      "Epoch 10/10\n",
      "\u001b[1m145/145\u001b[0m \u001b[32m━━━━━━━━━━━━━━━━━━━━\u001b[0m\u001b[37m\u001b[0m \u001b[1m541s\u001b[0m 4s/step - AUC: 0.7643 - Precision: 0.6039 - Recall: 0.0682 - loss: 0.2980 - val_AUC: 0.6222 - val_Precision: 0.3200 - val_Recall: 0.0041 - val_loss: 0.3530\n",
      "\u001b[1m37/37\u001b[0m \u001b[32m━━━━━━━━━━━━━━━━━━━━\u001b[0m\u001b[37m\u001b[0m \u001b[1m28s\u001b[0m 733ms/step\n"
     ]
    }
   ],
   "source": [
    "from sklearn.metrics import roc_curve, auc, roc_auc_score, accuracy_score, average_precision_score\n",
    "from data_proccessing import train_gen, valid_gen, X_val, y_val\n",
    "\n",
    "resnet1 = rnet_model.fit(train_gen,\n",
    "              validation_data = valid_gen,\n",
    "              epochs = 10,) # 95 min\n",
    "\n",
    "y_pred = rnet_model.predict(X_val)"
   ]
  },
  {
   "cell_type": "code",
   "execution_count": 9,
   "metadata": {},
   "outputs": [
    {
     "name": "stdout",
     "output_type": "stream",
     "text": [
      "Atelectasis: actual: 16.54%, predicted: 27.49%\n",
      "Cardiomegaly: actual: 9.09%, predicted: 7.35%\n",
      "Consolidation: actual: 9.78%, predicted: 18.82%\n",
      "Edema: actual: 9.44%, predicted: 14.92%\n",
      "Effusion: actual: 17.66%, predicted: 23.91%\n",
      "Emphysema: actual: 9.09%, predicted: 7.34%\n",
      "Fibrosis: actual: 8.92%, predicted: 11.49%\n",
      "Hernia: actual: 3.98%, predicted: 6.15%\n",
      "Infiltration: actual: 25.54%, predicted: 39.01%\n",
      "Mass: actual: 9.96%, predicted: 20.55%\n",
      "No Finding: actual: 8.66%, predicted: 14.81%\n",
      "Nodule: actual: 10.39%, predicted: 17.82%\n",
      "Pleural_Thickening: actual: 8.40%, predicted: 9.30%\n",
      "Pneumonia: actual: 8.92%, predicted: 15.26%\n",
      "Pneumothorax: actual: 10.82%, predicted: 10.42%\n"
     ]
    }
   ],
   "source": [
    "import numpy as np\n",
    "\n",
    "for label, p_count, t_count in zip(labels,\n",
    "                                     100 * np.mean(y_pred, 0),\n",
    "                                     100 * np.mean(y_val, 0)):\n",
    "    print('%s: actual: %2.2f%%, predicted: %2.2f%%' % (label, t_count, p_count))\n"
   ]
  },
  {
   "cell_type": "code",
   "execution_count": 14,
   "metadata": {},
   "outputs": [
    {
     "name": "stdout",
     "output_type": "stream",
     "text": [
      "\u001b[1m1/1\u001b[0m \u001b[32m━━━━━━━━━━━━━━━━━━━━\u001b[0m\u001b[37m\u001b[0m \u001b[1m42s\u001b[0m 42s/step - AUC: 0.6222 - Precision: 0.3200 - Recall: 0.0041 - loss: 0.3530\n",
      "Validation Metrics: [0.3529972434043884, 0.6221532821655273, 0.3199999928474426, 0.004142931196838617]\n"
     ]
    }
   ],
   "source": [
    "val_metrics = rnet_model.evaluate(valid_gen)\n",
    "print(\"Validation Metrics:\", val_metrics)\n"
   ]
  },
  {
   "cell_type": "code",
   "execution_count": 16,
   "metadata": {},
   "outputs": [
    {
     "name": "stdout",
     "output_type": "stream",
     "text": [
      "Loss:  0.3529972434043884\n",
      "Sparse_Categorical_Accuracy:  0.6221532821655273\n"
     ]
    }
   ],
   "source": [
    "loss, sparse_categorical_accuracy, val_loss, val_sparse_categorical_accuracy = val_metrics\n",
    "print(\"Loss: \", loss)\n",
    "print(\"Sparse_Categorical_Accuracy: \", sparse_categorical_accuracy)"
   ]
  },
  {
   "cell_type": "code",
   "execution_count": 17,
   "metadata": {},
   "outputs": [],
   "source": [
    "rnet_model.save('model/resnet.keras')"
   ]
  },
  {
   "cell_type": "code",
   "execution_count": 11,
   "metadata": {},
   "outputs": [
    {
     "ename": "ModuleNotFoundError",
     "evalue": "No module named 'matplotlib'",
     "output_type": "error",
     "traceback": [
      "\u001b[0;31m---------------------------------------------------------------------------\u001b[0m",
      "\u001b[0;31mModuleNotFoundError\u001b[0m                       Traceback (most recent call last)",
      "Cell \u001b[0;32mIn[11], line 1\u001b[0m\n\u001b[0;32m----> 1\u001b[0m \u001b[38;5;28;01mimport\u001b[39;00m \u001b[38;5;21;01mmatplotlib\u001b[39;00m \u001b[38;5;28;01mas\u001b[39;00m \u001b[38;5;21;01mplt\u001b[39;00m\n\u001b[1;32m      3\u001b[0m plt\u001b[38;5;241m.\u001b[39mplot(resnet1\u001b[38;5;241m.\u001b[39mhistory[\u001b[38;5;124m'\u001b[39m\u001b[38;5;124mAUC\u001b[39m\u001b[38;5;124m'\u001b[39m]) \n\u001b[1;32m      4\u001b[0m plt\u001b[38;5;241m.\u001b[39mplot(resnet1\u001b[38;5;241m.\u001b[39mhistory[\u001b[38;5;124m'\u001b[39m\u001b[38;5;124mval_AUC\u001b[39m\u001b[38;5;124m'\u001b[39m]) \n",
      "\u001b[0;31mModuleNotFoundError\u001b[0m: No module named 'matplotlib'"
     ]
    }
   ],
   "source": [
    "import matplotlib.pyplot as plt\n",
    "\n",
    "plt.plot(resnet1.history['AUC']) \n",
    "plt.plot(resnet1.history['val_AUC']) \n",
    "plt.title('model auc')\n",
    "plt.ylabel('auc')\n",
    "plt.xlabel('epoch')\n",
    "plt.legend(['train', 'test'], loc='upper left')\n",
    "plt.show()"
   ]
  }
 ],
 "metadata": {
  "kernelspec": {
   "display_name": "venv",
   "language": "python",
   "name": "python3"
  },
  "language_info": {
   "codemirror_mode": {
    "name": "ipython",
    "version": 3
   },
   "file_extension": ".py",
   "mimetype": "text/x-python",
   "name": "python",
   "nbconvert_exporter": "python",
   "pygments_lexer": "ipython3",
   "version": "3.10.10"
  }
 },
 "nbformat": 4,
 "nbformat_minor": 2
}
